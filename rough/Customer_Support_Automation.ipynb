{
  "nbformat": 4,
  "nbformat_minor": 0,
  "metadata": {
    "colab": {
      "provenance": []
    },
    "kernelspec": {
      "name": "python3",
      "display_name": "Python 3"
    },
    "language_info": {
      "name": "python"
    }
  },
  "cells": [
    {
      "cell_type": "code",
      "execution_count": 1,
      "metadata": {
        "colab": {
          "base_uri": "https://localhost:8080/"
        },
        "id": "YUYiLgX5xL6e",
        "outputId": "f211a474-1b3d-41a0-b544-aaaa604a00a4"
      },
      "outputs": [
        {
          "output_type": "stream",
          "name": "stdout",
          "text": [
            "Requirement already satisfied: pandas in /usr/local/lib/python3.10/dist-packages (2.2.2)\n",
            "Requirement already satisfied: numpy in /usr/local/lib/python3.10/dist-packages (1.26.4)\n",
            "Collecting sklearn\n",
            "  Downloading sklearn-0.0.post12.tar.gz (2.6 kB)\n",
            "  \u001b[1;31merror\u001b[0m: \u001b[1msubprocess-exited-with-error\u001b[0m\n",
            "  \n",
            "  \u001b[31m×\u001b[0m \u001b[32mpython setup.py egg_info\u001b[0m did not run successfully.\n",
            "  \u001b[31m│\u001b[0m exit code: \u001b[1;36m1\u001b[0m\n",
            "  \u001b[31m╰─>\u001b[0m See above for output.\n",
            "  \n",
            "  \u001b[1;35mnote\u001b[0m: This error originates from a subprocess, and is likely not a problem with pip.\n",
            "  Preparing metadata (setup.py) ... \u001b[?25l\u001b[?25herror\n",
            "\u001b[1;31merror\u001b[0m: \u001b[1mmetadata-generation-failed\u001b[0m\n",
            "\n",
            "\u001b[31m×\u001b[0m Encountered error while generating package metadata.\n",
            "\u001b[31m╰─>\u001b[0m See above for output.\n",
            "\n",
            "\u001b[1;35mnote\u001b[0m: This is an issue with the package mentioned above, not pip.\n",
            "\u001b[1;36mhint\u001b[0m: See above for details.\n"
          ]
        }
      ],
      "source": [
        "!pip install pandas numpy sklearn openai\n"
      ]
    },
    {
      "cell_type": "code",
      "source": [
        "# Install Kaggle library\n",
        "!pip install kaggle\n",
        "\n",
        "# Make Kaggle directory and move the API key\n",
        "!mkdir -p ~/.kaggle\n",
        "!cp kaggle.json ~/.kaggle/\n",
        "\n",
        "# Set correct permissions for the key\n",
        "!chmod 600 ~/.kaggle/kaggle.json\n"
      ],
      "metadata": {
        "colab": {
          "base_uri": "https://localhost:8080/"
        },
        "id": "FdoK6uobxWDj",
        "outputId": "ca218ef9-b044-4ee3-af4f-4e33c09bfdd5"
      },
      "execution_count": 2,
      "outputs": [
        {
          "output_type": "stream",
          "name": "stdout",
          "text": [
            "Requirement already satisfied: kaggle in /usr/local/lib/python3.10/dist-packages (1.6.17)\n",
            "Requirement already satisfied: six>=1.10 in /usr/local/lib/python3.10/dist-packages (from kaggle) (1.17.0)\n",
            "Requirement already satisfied: certifi>=2023.7.22 in /usr/local/lib/python3.10/dist-packages (from kaggle) (2024.12.14)\n",
            "Requirement already satisfied: python-dateutil in /usr/local/lib/python3.10/dist-packages (from kaggle) (2.8.2)\n",
            "Requirement already satisfied: requests in /usr/local/lib/python3.10/dist-packages (from kaggle) (2.32.3)\n",
            "Requirement already satisfied: tqdm in /usr/local/lib/python3.10/dist-packages (from kaggle) (4.67.1)\n",
            "Requirement already satisfied: python-slugify in /usr/local/lib/python3.10/dist-packages (from kaggle) (8.0.4)\n",
            "Requirement already satisfied: urllib3 in /usr/local/lib/python3.10/dist-packages (from kaggle) (2.2.3)\n",
            "Requirement already satisfied: bleach in /usr/local/lib/python3.10/dist-packages (from kaggle) (6.2.0)\n",
            "Requirement already satisfied: webencodings in /usr/local/lib/python3.10/dist-packages (from bleach->kaggle) (0.5.1)\n",
            "Requirement already satisfied: text-unidecode>=1.3 in /usr/local/lib/python3.10/dist-packages (from python-slugify->kaggle) (1.3)\n",
            "Requirement already satisfied: charset-normalizer<4,>=2 in /usr/local/lib/python3.10/dist-packages (from requests->kaggle) (3.4.0)\n",
            "Requirement already satisfied: idna<4,>=2.5 in /usr/local/lib/python3.10/dist-packages (from requests->kaggle) (3.10)\n",
            "cp: cannot stat 'kaggle.json': No such file or directory\n",
            "chmod: cannot access '/root/.kaggle/kaggle.json': No such file or directory\n"
          ]
        }
      ]
    },
    {
      "cell_type": "code",
      "source": [
        "# Download the dataset\n",
        "!kaggle datasets download -d tobiasbueck/multilingual-customer-support-tickets\n",
        "\n",
        "# Unzip the dataset\n",
        "!unzip multilingual-customer-support-tickets.zip\n"
      ],
      "metadata": {
        "colab": {
          "base_uri": "https://localhost:8080/"
        },
        "id": "h20PJq3wxpEX",
        "outputId": "7d81443d-b36a-4d9a-af91-d53d956ad214"
      },
      "execution_count": 3,
      "outputs": [
        {
          "output_type": "stream",
          "name": "stdout",
          "text": [
            "Dataset URL: https://www.kaggle.com/datasets/tobiasbueck/multilingual-customer-support-tickets\n",
            "License(s): Attribution 4.0 International (CC BY 4.0)\n",
            "Downloading multilingual-customer-support-tickets.zip to /content\n",
            "  0% 0.00/2.08M [00:00<?, ?B/s]\n",
            "100% 2.08M/2.08M [00:00<00:00, 128MB/s]\n",
            "Archive:  multilingual-customer-support-tickets.zip\n",
            "  inflating: dataset-tickets-multi-lang3-4k.csv  \n"
          ]
        }
      ]
    },
    {
      "cell_type": "code",
      "source": [
        "import pandas as pd\n",
        "import numpy as np\n",
        "from sklearn.feature_extraction.text import TfidfVectorizer\n",
        "from sklearn.cluster import KMeans\n",
        "from sklearn.metrics.pairwise import cosine_similarity\n",
        "import openai\n",
        "import re\n",
        "\n",
        "# Load Dataset from Kaggle\n",
        "file_path = '/content/multilingual-customer-support-tickets.zip'\n",
        "df = pd.read_csv(file_path)\n",
        "\n",
        "# Filter English tickets\n",
        "df = df[df['language'] == 'en']\n",
        "\n",
        "# Preview dataset\n",
        "print(df.head())\n"
      ],
      "metadata": {
        "colab": {
          "base_uri": "https://localhost:8080/"
        },
        "id": "syF89PMFxsDz",
        "outputId": "dfefd580-2af4-4020-c1a5-1d8d6c50708c"
      },
      "execution_count": 8,
      "outputs": [
        {
          "output_type": "stream",
          "name": "stdout",
          "text": [
            "                                              subject  \\\n",
            "3             Urgent Assistance Required: AWS Service   \n",
            "5      Urgent: Issue with Zoom Screen Sharing Feature   \n",
            "7   Service outage resolution requested for ongoin...   \n",
            "8                                 Surface Pro 7 Issue   \n",
            "10  Request for software development consultation ...   \n",
            "\n",
            "                                                 body  \\\n",
            "3   Dear IT Services Support Team, \\n\\nI am reachi...   \n",
            "5   Dear Customer Support,\\n\\nI am experiencing a ...   \n",
            "7   Dear IT Services Customer Support,\\n\\nI am wri...   \n",
            "8   Dear Tech Online Store Support Team,\\n\\nI hope...   \n",
            "10  Dear Customer Support,\\n\\nI hope this message ...   \n",
            "\n",
            "                                               answer      type  \\\n",
            "3   Dear <name>,\\n\\nThank you for reaching out reg...   Request   \n",
            "5   Dear <name>,\\n\\nThank you for reaching out. We...  Incident   \n",
            "7   Dear <name>,\\n\\nThank you for reaching out to ...    Change   \n",
            "8   Dear <name>,\\n\\nThank you for reaching out to ...  Incident   \n",
            "10  Dear <name>,\\n\\nThank you for reaching out reg...   Request   \n",
            "\n",
            "                              queue priority language      business_type  \\\n",
            "3                        IT Support     high       en        IT Services   \n",
            "5                 Technical Support     high       en        IT Services   \n",
            "7   Service Outages and Maintenance     high       en        IT Services   \n",
            "8                   Product Support   medium       en  Tech Online Store   \n",
            "10                Technical Support   medium       en        IT Services   \n",
            "\n",
            "                tag_1               tag_2                 tag_3  \\\n",
            "3          IT Support        Urgent Issue  Service Notification   \n",
            "5   Technical Support        Urgent Issue    Service Disruption   \n",
            "7      Service Outage          IT Support    Problem Resolution   \n",
            "8   Technical Support     Product Support          Software Bug   \n",
            "10         IT Support  Technical Guidance    Problem Resolution   \n",
            "\n",
            "                   tag_4               tag_5               tag_6  \\\n",
            "3         Cloud Services  Problem Resolution  Technical Guidance   \n",
            "5     Problem Resolution        Software Bug                 NaN   \n",
            "7      Technical Support    Service Recovery  System Maintenance   \n",
            "8       Hardware Failure  Problem Resolution    Service Recovery   \n",
            "10  Service Notification        Urgent Issue                 NaN   \n",
            "\n",
            "                 tag_7         tag_8  tag_9  \n",
            "3   Performance Tuning           NaN    NaN  \n",
            "5                  NaN           NaN    NaN  \n",
            "7   Performance Tuning  Urgent Issue    NaN  \n",
            "8                  NaN           NaN    NaN  \n",
            "10                 NaN           NaN    NaN  \n"
          ]
        }
      ]
    },
    {
      "cell_type": "code",
      "source": [
        "# Text Preprocessing\n",
        "def preprocess_text(text):\n",
        "    # Handle None and non-string types\n",
        "    if text is None or not isinstance(text, str):\n",
        "        return ''  # Return empty string instead of None\n",
        "\n",
        "    text = text.lower()\n",
        "    text = re.sub(r'\\W', ' ', text)  # Remove non-word characters\n",
        "    text = re.sub(r'\\s+', ' ', text)  # Remove extra spaces\n",
        "    return text.strip()\n",
        "\n",
        "# Apply preprocessing and create 'clean_text' column from 'subject' column\n",
        "df['clean_text'] = df['subject'].apply(preprocess_text) # Changed 'text' to 'subject' to apply preprocessing on the correct column"
      ],
      "metadata": {
        "id": "Ktf-6BmNxuw8"
      },
      "execution_count": 18,
      "outputs": []
    },
    {
      "cell_type": "code",
      "source": [
        "from sklearn.feature_extraction.text import TfidfVectorizer\n",
        "from sklearn.cluster import KMeans\n",
        "\n",
        "# Convert text to numerical data\n",
        "vectorizer = TfidfVectorizer(stop_words='english')\n",
        "X = vectorizer.fit_transform(df['clean_text'])\n",
        "\n",
        "# Apply KMeans Clustering\n",
        "num_clusters = 5  # Adjust based on dataset size\n",
        "kmeans = KMeans(n_clusters=num_clusters, random_state=42)\n",
        "df['cluster'] = kmeans.fit_predict(X)\n",
        "\n",
        "# Display Clustered Issues\n",
        "for i in range(num_clusters):\n",
        "    print(f\"\\nCluster {i}:\")\n",
        "    print(df[df['cluster'] == i]['subject'].head(3)) # Changed 'text' to 'subject' to display the original subject text"
      ],
      "metadata": {
        "colab": {
          "base_uri": "https://localhost:8080/"
        },
        "id": "yTrcIK_tyGxI",
        "outputId": "3ffcfa76-e310-490b-e895-4fc43a2d3ec5"
      },
      "execution_count": 19,
      "outputs": [
        {
          "output_type": "stream",
          "name": "stdout",
          "text": [
            "\n",
            "Cluster 0:\n",
            "5       Urgent: Issue with Zoom Screen Sharing Feature\n",
            "7    Service outage resolution requested for ongoin...\n",
            "8                                  Surface Pro 7 Issue\n",
            "Name: subject, dtype: object\n",
            "\n",
            "Cluster 1:\n",
            "26     Inquiry About Dell XPS 13 Battery Optimization\n",
            "73    Exchange Request for Malfunctioning Dell XPS 13\n",
            "89              Inquiry about Dell XPS 13 9310 issues\n",
            "Name: subject, dtype: object\n",
            "\n",
            "Cluster 2:\n",
            "3               Urgent Assistance Required: AWS Service\n",
            "16    Immediate Assistance Required for Network Disr...\n",
            "19                 Assistance Needed for Chrome Crashes\n",
            "Name: subject, dtype: object\n",
            "\n",
            "Cluster 3:\n",
            "48     Network Slow Connectivity Issue Reported with ...\n",
            "66                                   Urgent: Router Down\n",
            "120    High Priority Incident: Cisco Router ISR4331 F...\n",
            "Name: subject, dtype: object\n",
            "\n",
            "Cluster 4:\n",
            "57                   Issue with HP DeskJet 3755 Printer\n",
            "85     Connectivity Issues with HP DeskJet 3755 Printer\n",
            "197            Connectivity Issues with HP DeskJet 3755\n",
            "Name: subject, dtype: object\n"
          ]
        }
      ]
    },
    {
      "cell_type": "code",
      "source": [
        "# Define templates based on identified categories\n",
        "category_templates = {\n",
        "    'payment_issue': \"Dear customer, it seems you're facing a payment issue. Please follow these steps: XYZ.\",\n",
        "    'login_issue': \"Dear customer, it looks like you're having trouble logging in. Follow these steps: ABC.\",\n",
        "    'general_inquiry': \"Dear customer, we have received your inquiry. Our team will get back to you shortly.\",\n",
        "}\n",
        "\n",
        "# Save key variables in a dictionary\n",
        "issue_data = {\n",
        "    'payment_issue': {'steps': \"Check your payment method, ensure sufficient funds, and retry.\"},\n",
        "    'login_issue': {'steps': \"Reset your password, clear browser cache, and retry.\"}\n",
        "}\n"
      ],
      "metadata": {
        "id": "A4Fhv81izXwU"
      },
      "execution_count": 20,
      "outputs": []
    },
    {
      "cell_type": "code",
      "source": [
        "def classify_and_respond(user_query):\n",
        "    # Preprocess the query\n",
        "    user_query = preprocess_text(user_query)\n",
        "    user_vector = vectorizer.transform([user_query])\n",
        "\n",
        "    # Identify cluster\n",
        "    cluster = kmeans.predict(user_vector)[0]\n",
        "    cluster_texts = df[df['cluster'] == cluster]['clean_text'].tolist()\n",
        "\n",
        "    # Find closest match using cosine similarity\n",
        "    similarities = cosine_similarity(user_vector, vectorizer.transform(cluster_texts))\n",
        "    closest_idx = np.argmax(similarities)\n",
        "    matched_text = cluster_texts[closest_idx]\n",
        "\n",
        "    # Map to issue category\n",
        "    if 'payment' in matched_text:\n",
        "        template = category_templates['payment_issue']\n",
        "        steps = issue_data['payment_issue']['steps']\n",
        "    elif 'login' in matched_text:\n",
        "        template = category_templates['login_issue']\n",
        "        steps = issue_data['login_issue']['steps']\n",
        "    else:\n",
        "        template = category_templates['general_inquiry']\n",
        "        steps = \"\"\n",
        "\n",
        "    # Generate final response\n",
        "    response = template.replace('XYZ', steps).replace('ABC', steps)\n",
        "    return response\n",
        "\n",
        "# Test the pipeline\n",
        "user_input = \"I can't make a payment on your website.\"\n",
        "print(classify_and_respond(user_input))\n"
      ],
      "metadata": {
        "colab": {
          "base_uri": "https://localhost:8080/"
        },
        "id": "g8NDvoi-0O4L",
        "outputId": "928477df-88a7-4e3f-f59b-ffe893765454"
      },
      "execution_count": 21,
      "outputs": [
        {
          "output_type": "stream",
          "name": "stdout",
          "text": [
            "Dear customer, it seems you're facing a payment issue. Please follow these steps: Check your payment method, ensure sufficient funds, and retry..\n"
          ]
        }
      ]
    },
    {
      "cell_type": "code",
      "source": [
        "import joblib\n",
        "\n",
        "# Save KMeans Model and Vectorizer\n",
        "joblib.dump(kmeans, 'kmeans_model.pkl')\n",
        "joblib.dump(vectorizer, 'tfidf_vectorizer.pkl')\n",
        "\n"
      ],
      "metadata": {
        "colab": {
          "base_uri": "https://localhost:8080/"
        },
        "id": "yW00HiMy0Q0K",
        "outputId": "38cfce57-a91f-4a16-cdbe-efeb2b592b55"
      },
      "execution_count": 23,
      "outputs": [
        {
          "output_type": "execute_result",
          "data": {
            "text/plain": [
              "['tfidf_vectorizer.pkl']"
            ]
          },
          "metadata": {},
          "execution_count": 23
        }
      ]
    },
    {
      "cell_type": "code",
      "source": [
        "queries = [\n",
        "    \"I'm facing payment issues.\",\n",
        "    \"I can't log in to my account.\",\n",
        "    \"I have a general question about your services.\"\n",
        "]\n",
        "\n",
        "for query in queries:\n",
        "    print(f\"User Query: {query}\")\n",
        "    print(f\"Response: {classify_and_respond(query)}\\n\")\n"
      ],
      "metadata": {
        "colab": {
          "base_uri": "https://localhost:8080/"
        },
        "id": "s_e47IWn0TwH",
        "outputId": "768bf79e-4349-4b03-df6e-bcd020a17105"
      },
      "execution_count": 24,
      "outputs": [
        {
          "output_type": "stream",
          "name": "stdout",
          "text": [
            "User Query: I'm facing payment issues.\n",
            "Response: Dear customer, it seems you're facing a payment issue. Please follow these steps: Check your payment method, ensure sufficient funds, and retry..\n",
            "\n",
            "User Query: I can't log in to my account.\n",
            "Response: Dear customer, we have received your inquiry. Our team will get back to you shortly.\n",
            "\n",
            "User Query: I have a general question about your services.\n",
            "Response: Dear customer, we have received your inquiry. Our team will get back to you shortly.\n",
            "\n"
          ]
        }
      ]
    },
    {
      "cell_type": "code",
      "source": [],
      "metadata": {
        "id": "MUaz-A4y0ZZg"
      },
      "execution_count": null,
      "outputs": []
    }
  ]
}